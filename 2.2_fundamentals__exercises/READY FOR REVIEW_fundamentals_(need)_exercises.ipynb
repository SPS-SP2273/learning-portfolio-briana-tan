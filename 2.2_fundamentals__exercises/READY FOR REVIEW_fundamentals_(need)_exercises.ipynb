{
 "cells": [
  {
   "attachments": {},
   "cell_type": "markdown",
   "id": "123456",
   "metadata": {},
   "source": [
    "<div style=\"text-align:left;font-size:2em\"><span style=\"font-weight:bolder;font-size:1.25em\">SP2273 | Learning Portfolio</span><br><br><span style=\"font-weight:bold;color:darkred\">Fundamentals (Need) Exercises</span></div>"
   ]
  },
  {
   "cell_type": "markdown",
   "id": "e5ffdcb4",
   "metadata": {},
   "source": [
    "### Exercise 1 (Total Recall)\n",
    "1. **Purely from memory**\n",
    "    - uh. I don't remember :sob:\n",
    "1. Now, visit the notes !!\n",
    "    - _printing? doing math? writing math? listing? making tables? a lot of things_"
   ]
  },
  {
   "cell_type": "code",
   "execution_count": 4,
   "id": "629bdb3f",
   "metadata": {},
   "outputs": [],
   "source": [
    "import math"
   ]
  },
  {
   "cell_type": "markdown",
   "id": "3c7cf882",
   "metadata": {},
   "source": [
    "### Exercise 2"
   ]
  },
  {
   "cell_type": "code",
   "execution_count": 25,
   "id": "c4765ef2",
   "metadata": {},
   "outputs": [
    {
     "name": "stdout",
     "output_type": "stream",
     "text": [
      "3 4 5.0\n"
     ]
    }
   ],
   "source": [
    "x = int(3)\n",
    "y = int(4)\n",
    "z = math.sqrt((x)**2 + (y)**2)\n",
    "print(x, y, z)"
   ]
  },
  {
   "cell_type": "markdown",
   "id": "f1e0ed76",
   "metadata": {},
   "source": [
    "### Exercise 3"
   ]
  },
  {
   "cell_type": "markdown",
   "id": "370cc138",
   "metadata": {},
   "source": [
    "| # | Term     | Description |\n",
    "|:-:|----------|-------------|\n",
    "| 1 | Function | The commands to tell python what you want it to do, like print()            |\n",
    "| 2 | Argument | Argument is the value that is used in the function            |\n",
    "| 3 | Comments | Comments are just your own personal comments in the code, it uses # beforehand            |\n",
    "| 4 | Indentation | Indentation is the little space that goes in (like a tab), it's usually used for if:            |\n",
    "| 5 | Packages | Packages are the groups of item you can import to enhance your python and give it more uses. Like importing the math or numpy package.            |\n",
    "| 6 | . | Dots mean ownership, like math.sqrt would mean square root from the math package            |\n",
    "| 7 | : | It is an operator that you use for things like if (): else:, or for () in ():            |\n",
    "| 8 | [] | Boxed brackets are used for lists            |\n",
    "| 9 | [[],[]] | It is a list that contains lists??            |\n",
    "| 10 | {} | Curly brackets are for dictionaries            |"
   ]
  }
 ],
 "metadata": {
  "kernelspec": {
   "display_name": "base",
   "language": "python",
   "name": "python3"
  },
  "language_info": {
   "codemirror_mode": {
    "name": "ipython",
    "version": 3
   },
   "file_extension": ".py",
   "mimetype": "text/x-python",
   "name": "python",
   "nbconvert_exporter": "python",
   "pygments_lexer": "ipython3",
   "version": "3.13.5"
  },
  "toc": {
   "base_numbering": 1,
   "nav_menu": {},
   "number_sections": true,
   "sideBar": true,
   "skip_h1_title": false,
   "title_cell": "Table of Contents",
   "title_sidebar": "Contents",
   "toc_cell": false,
   "toc_position": {},
   "toc_section_display": true,
   "toc_window_display": false
  }
 },
 "nbformat": 4,
 "nbformat_minor": 5
}
