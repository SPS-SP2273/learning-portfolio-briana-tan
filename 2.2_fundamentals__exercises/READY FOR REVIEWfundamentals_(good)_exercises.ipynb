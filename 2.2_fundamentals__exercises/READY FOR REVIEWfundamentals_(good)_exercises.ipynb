{
 "cells": [
  {
   "attachments": {},
   "cell_type": "markdown",
   "id": "123456",
   "metadata": {},
   "source": [
    "<div style=\"text-align:left;font-size:2em\"><span style=\"font-weight:bolder;font-size:1.25em\">SP2273 | Learning Portfolio</span><br><br><span style=\"font-weight:bold;color:darkred\">Fundamentals (Good) Exercises</span></div>"
   ]
  },
  {
   "cell_type": "code",
   "execution_count": 8,
   "id": "f545326e",
   "metadata": {},
   "outputs": [],
   "source": [
    "import numpy as np"
   ]
  },
  {
   "cell_type": "code",
   "execution_count": null,
   "id": "26fe1f6e",
   "metadata": {},
   "outputs": [
    {
     "name": "stdout",
     "output_type": "stream",
     "text": [
      "You entered 10\n"
     ]
    }
   ],
   "source": [
    "user_input = input('Please provide me with a number?')\n",
    "print('You entered', user_input)"
   ]
  },
  {
   "cell_type": "code",
   "execution_count": 7,
   "id": "1f6debc2",
   "metadata": {},
   "outputs": [
    {
     "name": "stdout",
     "output_type": "stream",
     "text": [
      "How you doin AWEF!\n"
     ]
    }
   ],
   "source": [
    "user_input = input('What is your name?')\n",
    "print(f'How you doin {user_input.upper()}!')"
   ]
  },
  {
   "cell_type": "code",
   "execution_count": 6,
   "id": "cf54e097",
   "metadata": {},
   "outputs": [
    {
     "name": "stdout",
     "output_type": "stream",
     "text": [
      "My name is AWEF and I am 23 years old.\n"
     ]
    }
   ],
   "source": [
    "user_name = input(\"What is your name?\")\n",
    "user_age = input(\"How old are you this year?\")\n",
    "print(f\"My name is {user_name.upper()} and I am {user_age} years old.\")"
   ]
  },
  {
   "cell_type": "code",
   "execution_count": 23,
   "id": "9a8f6754",
   "metadata": {},
   "outputs": [
    {
     "name": "stdout",
     "output_type": "stream",
     "text": [
      "The value of pi to 2 decimal places is: 3.14 \n",
      "\n",
      "The value of pi to 3 decimal places is: 3.142 \n",
      "\n",
      "The value of pi to 4 decimal places is: 3.1416 \n",
      "\n"
     ]
    }
   ],
   "source": [
    "pi = 3.141592653589793\n",
    "for a in range (2,5):\n",
    "    print(f'The value of pi to {a} decimal places is: {pi:.{a}f} \\n')\n",
    "    "
   ]
  },
  {
   "cell_type": "code",
   "execution_count": 11,
   "id": "8a57eadc",
   "metadata": {},
   "outputs": [
    {
     "name": "stdout",
     "output_type": "stream",
     "text": [
      "Apple     $ 0.99 \n",
      "Banana    $ 0.59 \n",
      "Orange    $ 1.29\n"
     ]
    }
   ],
   "source": [
    "f = [\"Apple\",\"Banana\",\"Orange\"]\n",
    "p = [\"0.99\",\"0.59\",\"1.29\"]\n",
    "print(f'{f[0]}{\" \"*(10-len(f[0]))}$ {p[0]} \\n{f[1]}{\" \"*(10-len(f[1]))}$ {p[1]} \\n{f[2]}{\" \"*(10-len(f[2]))}$ {p[2]}')"
   ]
  },
  {
   "cell_type": "code",
   "execution_count": 2,
   "id": "6a3f2f27",
   "metadata": {},
   "outputs": [
    {
     "name": "stdout",
     "output_type": "stream",
     "text": [
      "Please put in a number.\n"
     ]
    }
   ],
   "source": [
    "score=input(\"Enter the student's score:\")\n",
    "try: \n",
    "    x = int(score)\n",
    "    if 0<=x<=100:\n",
    "        if x>=70:\n",
    "            grade = \"A\" \n",
    "        elif x>=50:\n",
    "            grade = \"B\"\n",
    "        elif x>=35:\n",
    "            grade = \"C\"\n",
    "        else:\n",
    "            grade = \"Fail\"\n",
    "    else:\n",
    "        print(\"Sorry, the score is between 0 and 100 \\n\\tPlease note that the following result is not your grade.\")\n",
    "        grade = \"N/A\"\n",
    "    print(f'Enter the student\\'s score: {score}\\nThe student\\'s letter grade is: {grade}')\n",
    "except ValueError:\n",
    "    print(\"Please put in a number.\")\n",
    "    grade = \"N/A\"\n"
   ]
  },
  {
   "cell_type": "code",
   "execution_count": 4,
   "id": "5d563390",
   "metadata": {},
   "outputs": [
    {
     "name": "stdout",
     "output_type": "stream",
     "text": [
      "120\n",
      "Invalid input\n"
     ]
    }
   ],
   "source": [
    "def factorial(n):\n",
    "    if n < 0:\n",
    "        return \"Invalid input\"\n",
    "    elif n == 0:\n",
    "        return 1\n",
    "    else:\n",
    "        result = 1\n",
    "        for number in range(1, n+1):\n",
    "            result *= number\n",
    "        return result\n",
    "\n",
    "\n",
    "print(factorial(5))   # Testing, expected output: 120\n",
    "print(factorial(-1))  # Testing, expected output: Invalid input"
   ]
  },
  {
   "cell_type": "code",
   "execution_count": null,
   "id": "b3e95f9a",
   "metadata": {},
   "outputs": [],
   "source": []
  }
 ],
 "metadata": {
  "kernelspec": {
   "display_name": "base",
   "language": "python",
   "name": "python3"
  },
  "language_info": {
   "codemirror_mode": {
    "name": "ipython",
    "version": 3
   },
   "file_extension": ".py",
   "mimetype": "text/x-python",
   "name": "python",
   "nbconvert_exporter": "python",
   "pygments_lexer": "ipython3",
   "version": "3.13.5"
  },
  "toc": {
   "base_numbering": 1,
   "nav_menu": {},
   "number_sections": true,
   "sideBar": true,
   "skip_h1_title": false,
   "title_cell": "Table of Contents",
   "title_sidebar": "Contents",
   "toc_cell": false,
   "toc_position": {},
   "toc_section_display": true,
   "toc_window_display": false
  }
 },
 "nbformat": 4,
 "nbformat_minor": 5
}
