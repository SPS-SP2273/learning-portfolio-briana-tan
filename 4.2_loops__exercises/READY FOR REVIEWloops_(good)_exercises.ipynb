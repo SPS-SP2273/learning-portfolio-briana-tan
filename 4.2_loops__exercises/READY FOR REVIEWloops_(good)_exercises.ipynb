{
 "cells": [
  {
   "attachments": {},
   "cell_type": "markdown",
   "id": "123456",
   "metadata": {},
   "source": [
    "<div style=\"text-align:left;font-size:2em\"><span style=\"font-weight:bolder;font-size:1.25em\">SP2273 | Learning Portfolio</span><br><br><span style=\"font-weight:bold;color:darkred\">Loops (Good) Exercises</span></div>"
   ]
  },
  {
   "cell_type": "code",
   "execution_count": 1,
   "id": "31b8270b",
   "metadata": {},
   "outputs": [],
   "source": [
    "import math\n",
    "import numpy as np"
   ]
  },
  {
   "cell_type": "markdown",
   "id": "e16d59fd",
   "metadata": {},
   "source": [
    "### Exercise 1"
   ]
  },
  {
   "cell_type": "code",
   "execution_count": 3,
   "id": "9f241bde",
   "metadata": {},
   "outputs": [
    {
     "name": "stdout",
     "output_type": "stream",
     "text": [
      "[1, 9, 25, 49, 81]\n"
     ]
    }
   ],
   "source": [
    "squarodd=[]\n",
    "for i in range(0,10):\n",
    "    if i%2==0:\n",
    "        continue\n",
    "    else:\n",
    "        squarodd.append(i**2)\n",
    "\n",
    "print(squarodd)\n"
   ]
  },
  {
   "cell_type": "markdown",
   "id": "110ee569",
   "metadata": {},
   "source": [
    "### Exercise 2"
   ]
  },
  {
   "cell_type": "code",
   "execution_count": 5,
   "id": "1da3f0f8",
   "metadata": {},
   "outputs": [
    {
     "data": {
      "text/plain": [
       "[1, 9, 25, 49, 81]"
      ]
     },
     "execution_count": 5,
     "metadata": {},
     "output_type": "execute_result"
    }
   ],
   "source": [
    "[number**2 for number in range(10) if number%2 ==1]"
   ]
  },
  {
   "cell_type": "markdown",
   "id": "bedd76f8",
   "metadata": {},
   "source": [
    "### Exercise 3"
   ]
  },
  {
   "cell_type": "code",
   "execution_count": 10,
   "id": "b75fc542",
   "metadata": {},
   "outputs": [
    {
     "name": "stdout",
     "output_type": "stream",
     "text": [
      "1.99 μs ± 603 ns per loop (mean ± std. dev. of 7 runs, 100,000 loops each)\n"
     ]
    }
   ],
   "source": [
    "%%timeit\n",
    "squarodd=[]\n",
    "for i in range(0,10):\n",
    "    if i%2==0:\n",
    "        continue\n",
    "    else:\n",
    "        squarodd.append(i**2)\n"
   ]
  },
  {
   "cell_type": "code",
   "execution_count": 11,
   "id": "d682f4c4",
   "metadata": {},
   "outputs": [
    {
     "name": "stdout",
     "output_type": "stream",
     "text": [
      "1.06 μs ± 30 ns per loop (mean ± std. dev. of 7 runs, 1,000,000 loops each)\n"
     ]
    }
   ],
   "source": [
    "%%timeit\n",
    "[number**2 for number in range(10) if number%2 ==1]"
   ]
  },
  {
   "cell_type": "code",
   "execution_count": null,
   "id": "8cf8ec3d",
   "metadata": {},
   "outputs": [],
   "source": [
    "# The second one is faster, even when I take out the print in the first one"
   ]
  },
  {
   "cell_type": "markdown",
   "id": "7912f490",
   "metadata": {},
   "source": [
    "### Exercise 4"
   ]
  },
  {
   "cell_type": "code",
   "execution_count": 15,
   "id": "31ec5f2d",
   "metadata": {},
   "outputs": [
    {
     "name": "stdout",
     "output_type": "stream",
     "text": [
      "14\n"
     ]
    }
   ],
   "source": [
    "radio=100\n",
    "year=0\n",
    "while radio>50:\n",
    "    radio = radio*0.95\n",
    "    year+=1\n",
    "print(year)\n"
   ]
  },
  {
   "cell_type": "code",
   "execution_count": null,
   "id": "04692992",
   "metadata": {},
   "outputs": [
    {
     "name": "stdout",
     "output_type": "stream",
     "text": [
      "369.55\n"
     ]
    }
   ],
   "source": [
    "# Identify those years that showed an increase of CO\n",
    "# of 3 ppm or more compared to the previous year.\n",
    "# Please print out these years along with the corresponding change in concentration.\n",
    "\n",
    "co2_data = [\n",
    "    (2000, 369.55), (2001, 371.14), (2002, 373.28), \n",
    "    (2003, 375.80), (2004, 377.52), (2005, 379.80), \n",
    "    (2006, 381.90), (2007, 383.79), (2008, 385.60), \n",
    "    (2009, 387.43), (2010, 389.90), (2011, 391.65), \n",
    "    (2012, 393.85), (2013, 396.52), (2014, 398.65),\n",
    "    (2015, 400.83), (2016, 404.24), (2017, 406.55), \n",
    "    (2018, 408.52), (2019, 411.44), (2020, 414.24)\n",
    "]\n",
    "print(co2_data[0][1])\n",
    "\n",
    "for i in range(len(co2_data)):\n"
   ]
  },
  {
   "cell_type": "code",
   "execution_count": null,
   "id": "1ff91cfd",
   "metadata": {},
   "outputs": [],
   "source": [
    "\n"
   ]
  }
 ],
 "metadata": {
  "kernelspec": {
   "display_name": "base",
   "language": "python",
   "name": "python3"
  },
  "language_info": {
   "codemirror_mode": {
    "name": "ipython",
    "version": 3
   },
   "file_extension": ".py",
   "mimetype": "text/x-python",
   "name": "python",
   "nbconvert_exporter": "python",
   "pygments_lexer": "ipython3",
   "version": "3.13.5"
  },
  "toc": {
   "base_numbering": 1,
   "nav_menu": {},
   "number_sections": true,
   "sideBar": true,
   "skip_h1_title": false,
   "title_cell": "Table of Contents",
   "title_sidebar": "Contents",
   "toc_cell": false,
   "toc_position": {},
   "toc_section_display": true,
   "toc_window_display": false
  }
 },
 "nbformat": 4,
 "nbformat_minor": 5
}
