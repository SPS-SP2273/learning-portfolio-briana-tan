{
 "cells": [
  {
   "attachments": {},
   "cell_type": "markdown",
   "id": "123456",
   "metadata": {},
   "source": [
    "<div style=\"text-align:left;font-size:2em\"><span style=\"font-weight:bolder;font-size:1.25em\">SP2273 | Learning Portfolio</span><br><br><span style=\"font-weight:bold;color:darkred\">Loops (Need) Exercises</span></div>"
   ]
  },
  {
   "cell_type": "code",
   "execution_count": 25,
   "id": "6145411d",
   "metadata": {},
   "outputs": [],
   "source": [
    "import math\n",
    "import numpy as np"
   ]
  },
  {
   "cell_type": "markdown",
   "id": "94e30ece",
   "metadata": {},
   "source": [
    "### Exercise 1"
   ]
  },
  {
   "cell_type": "code",
   "execution_count": 15,
   "id": "eb0b0bc3",
   "metadata": {},
   "outputs": [
    {
     "name": "stdout",
     "output_type": "stream",
     "text": [
      "0 32.0\n",
      "5 41.0\n",
      "10 50.0\n",
      "15 59.0\n",
      "20 68.0\n",
      "25 77.0\n",
      "30 86.0\n",
      "35 95.0\n",
      "40 104.0\n",
      "45 113.0\n",
      "50 122.0\n"
     ]
    }
   ],
   "source": [
    "temperatures_celsius = [\n",
    "    0, 5, 10, 15, 20, 25,\n",
    "    30, 35, 40, 45, 50\n",
    "]\n",
    "\n",
    "fahrenheit = []\n",
    "for i in range (0,len(temperatures_celsius)):\n",
    "    fahrenheit.append(temperatures_celsius[i]*9/5 + 32)\n",
    "    print(temperatures_celsius[i],fahrenheit[i])\n"
   ]
  },
  {
   "cell_type": "markdown",
   "id": "164da3a2",
   "metadata": {},
   "source": [
    "### Exercise 2"
   ]
  },
  {
   "cell_type": "code",
   "execution_count": null,
   "id": "ae2acfe2",
   "metadata": {},
   "outputs": [
    {
     "name": "stdout",
     "output_type": "stream",
     "text": [
      "A1\tA2\tA3\t\n",
      "\n",
      "B1\tB2\tB3\t\n",
      "\n",
      "C1\tC2\tC3\t\n",
      "\n"
     ]
    }
   ],
   "source": [
    "for letter in ['A', 'B', 'C']:\n",
    "    for number in [1, 2, 3]:\n",
    "        print(f'{letter}{number}', end='\\t')\n",
    "    print('\\n')"
   ]
  },
  {
   "cell_type": "code",
   "execution_count": 6,
   "id": "31440b7a",
   "metadata": {},
   "outputs": [
    {
     "name": "stdout",
     "output_type": "stream",
     "text": [
      "1 : \t1\t2\t3\t4\t5\n",
      "2 : \t2\t4\t6\t8\t10\n",
      "3 : \t3\t6\t9\t12\t15\n",
      "4 : \t4\t8\t12\t16\t20\n",
      "5 : \t5\t10\t15\t20\t25\n"
     ]
    }
   ],
   "source": [
    "\n",
    "for num in range(1,6):\n",
    "    print(f'{num} :', end = ' ')\n",
    "    for ber in range(1,6):\n",
    "        print(f'\\t',end=f'{num*ber}')\n",
    "    print(end=f'\\n')"
   ]
  },
  {
   "cell_type": "markdown",
   "id": "ccad7a8f",
   "metadata": {},
   "source": [
    "### Exercise 3"
   ]
  },
  {
   "cell_type": "code",
   "execution_count": 26,
   "id": "845da6e1",
   "metadata": {},
   "outputs": [
    {
     "data": {
      "text/plain": [
       "array([0.31464218, 0.11625154, 0.74324366, 0.01783764, 0.83941822,\n",
       "       0.42752423, 0.43711195, 0.45833073, 0.21727904, 0.70648626])"
      ]
     },
     "execution_count": 26,
     "metadata": {},
     "output_type": "execute_result"
    }
   ],
   "source": [
    "np.random.rand(10)"
   ]
  },
  {
   "cell_type": "code",
   "execution_count": null,
   "id": "2e43dcb9",
   "metadata": {},
   "outputs": [
    {
     "name": "stdout",
     "output_type": "stream",
     "text": [
      "Experiment  1: No. of Heads = 4\n",
      "Experiment  2: No. of Heads = 4\n",
      "Experiment  3: No. of Heads = 5\n",
      "Experiment  4: No. of Heads = 8\n",
      "Experiment  5: No. of Heads = 3\n",
      "Experiment  6: No. of Heads = 2\n",
      "Experiment  7: No. of Heads = 4\n",
      "Experiment  8: No. of Heads = 6\n",
      "Experiment  9: No. of Heads = 6\n",
      "Experiment 10: No. of Heads = 4\n"
     ]
    }
   ],
   "source": [
    "heads=[]\n",
    "numberheads=[]\n",
    "for i in range (0,10):\n",
    "    mbe=np.random.rand(10)\n",
    "    numberheads=[]\n",
    "    for j in range(0,10):\n",
    "        if mbe[j] <0.5:\n",
    "            numberheads.append(1)\n",
    "        else:\n",
    "            numberheads.append(0)\n",
    "    heads.append(sum(numberheads))\n",
    "    if i == 9:\n",
    "        print(f'Experiment {i+1}: No. of Heads = {heads[i]}')\n",
    "    else:\n",
    "        print(f'Experiment  {i+1}: No. of Heads = {heads[i]}')"
   ]
  },
  {
   "cell_type": "code",
   "execution_count": null,
   "id": "21b7025f",
   "metadata": {},
   "outputs": [],
   "source": []
  }
 ],
 "metadata": {
  "kernelspec": {
   "display_name": "base",
   "language": "python",
   "name": "python3"
  },
  "language_info": {
   "codemirror_mode": {
    "name": "ipython",
    "version": 3
   },
   "file_extension": ".py",
   "mimetype": "text/x-python",
   "name": "python",
   "nbconvert_exporter": "python",
   "pygments_lexer": "ipython3",
   "version": "3.13.5"
  },
  "toc": {
   "base_numbering": 1,
   "nav_menu": {},
   "number_sections": true,
   "sideBar": true,
   "skip_h1_title": false,
   "title_cell": "Table of Contents",
   "title_sidebar": "Contents",
   "toc_cell": false,
   "toc_position": {},
   "toc_section_display": true,
   "toc_window_display": false
  }
 },
 "nbformat": 4,
 "nbformat_minor": 5
}
