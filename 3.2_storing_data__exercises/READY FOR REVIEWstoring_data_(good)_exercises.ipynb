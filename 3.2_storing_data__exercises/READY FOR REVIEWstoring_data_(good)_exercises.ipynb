{
 "cells": [
  {
   "attachments": {},
   "cell_type": "markdown",
   "id": "123456",
   "metadata": {},
   "source": [
    "<div style=\"text-align:left;font-size:2em\"><span style=\"font-weight:bolder;font-size:1.25em\">SP2273 | Learning Portfolio</span><br><br><span style=\"font-weight:bold;color:darkred\">Storing Data (Good) Exercises</span></div>"
   ]
  },
  {
   "cell_type": "code",
   "execution_count": 10,
   "id": "026966d6",
   "metadata": {},
   "outputs": [],
   "source": [
    "import numpy as np"
   ]
  },
  {
   "cell_type": "markdown",
   "id": "69964d79",
   "metadata": {},
   "source": [
    "### Exercise 1"
   ]
  },
  {
   "cell_type": "markdown",
   "id": "85183740",
   "metadata": {},
   "source": [
    "| Term       | Brief Description |\n",
    "|------------|-------------------|\n",
    "| Subsetting |*It is the process of extracting a small data set from a bigger one, like taking a subset from a set. Indexing and Slicing counts as subsetting!*                    |\n",
    "| Indexing   |Picking a certain item from the list. *It refers one element!*                   |\n",
    "| Slicing    |Cutting a list like with a knife, so you have a range of items in the same order as previously in the set. *Method to take sub-sequence from larger sequence*                    |\n",
    "| Masking    |*Analyzing data in arrays, like making a separate list of true's and false's for a certain criteria in the original array and then using that separate list to filter/do other operations to the original list.*                     |"
   ]
  },
  {
   "cell_type": "markdown",
   "id": "b183daac",
   "metadata": {},
   "source": [
    "### Exercise 2"
   ]
  },
  {
   "cell_type": "code",
   "execution_count": 35,
   "id": "810bbc3c",
   "metadata": {},
   "outputs": [
    {
     "name": "stdout",
     "output_type": "stream",
     "text": [
      "['1' '3' '2' '4' '5' '7' '6' '8' '10' '9']\n",
      "[np.str_('A'), np.str_('C'), np.str_('E'), np.str_('G'), np.str_('I')]\n"
     ]
    }
   ],
   "source": [
    "np_array_2d = np.array([[1, \"A\"], [3, \"C\"], [2, \"B\"], [4, \"D\"],\n",
    "                        [5, \"E\"], [7, \"G\"], [6, \"F\"], [8, \"H\"],\n",
    "                        [10, \"J\"], [9, \"I\"]])\n",
    "numbers = np_array_2d[:,0]\n",
    "alphabets = np_array_2d[:,1]\n",
    "print(numbers)\n",
    "\n",
    "integ = numbers.astype(int)\n",
    "\n",
    "mod = integ%2\n",
    "\n",
    "faltru = mod == 1\n",
    "\n",
    "final = []\n",
    "for i in range(len(integ)):\n",
    "    if faltru[i] == True:\n",
    "        final.append(alphabets[i])\n",
    "    else:\n",
    "        continue\n",
    "\n",
    "print(final)"
   ]
  },
  {
   "cell_type": "code",
   "execution_count": 36,
   "id": "cb5b29ba",
   "metadata": {},
   "outputs": [
    {
     "name": "stdout",
     "output_type": "stream",
     "text": [
      "['1' '3' '2' '4' '5' '7' '6' '8' '10' '9']\n",
      "['A' 'C' 'E' 'G' 'I']\n"
     ]
    }
   ],
   "source": [
    "np_array_2d = np.array([[1, \"A\"], [3, \"C\"], [2, \"B\"], [4, \"D\"],\n",
    "                        [5, \"E\"], [7, \"G\"], [6, \"F\"], [8, \"H\"],\n",
    "                        [10, \"J\"], [9, \"I\"]])\n",
    "numbers = np_array_2d[:,0]\n",
    "alphabets = np_array_2d[:,1]\n",
    "print(numbers)\n",
    "\n",
    "integ = numbers.astype(int)\n",
    "\n",
    "mod = integ%2\n",
    "\n",
    "faltru = mod == 1\n",
    "\n",
    "final = alphabets[faltru]\n",
    "\n",
    "print(final)"
   ]
  },
  {
   "cell_type": "markdown",
   "id": "aac6be14",
   "metadata": {},
   "source": [
    "### Exercise 3"
   ]
  },
  {
   "cell_type": "code",
   "execution_count": null,
   "id": "2bf585cd",
   "metadata": {},
   "outputs": [
    {
     "name": "stdout",
     "output_type": "stream",
     "text": [
      "[66 50 57 -1 -1]\n",
      "[92 -1 88 -1 -1]\n",
      "[75 -1 -1 76 -1]\n",
      "[-1 51 87 -1 -1]\n",
      "[71 -1 67 -1 69]\n",
      "0\n",
      "0\n"
     ]
    },
    {
     "ename": "IndexError",
     "evalue": "list assignment index out of range",
     "output_type": "error",
     "traceback": [
      "\u001b[31m---------------------------------------------------------------------------\u001b[39m",
      "\u001b[31mIndexError\u001b[39m                                Traceback (most recent call last)",
      "\u001b[36mCell\u001b[39m\u001b[36m \u001b[39m\u001b[32mIn[25]\u001b[39m\u001b[32m, line 28\u001b[39m\n\u001b[32m     26\u001b[39m     \u001b[38;5;28mprint\u001b[39m(i)\n\u001b[32m     27\u001b[39m     \u001b[38;5;28mprint\u001b[39m(j)\n\u001b[32m---> \u001b[39m\u001b[32m28\u001b[39m     \u001b[38;5;28mglobals\u001b[39m()[\u001b[33mf\u001b[39m\u001b[33m\"\u001b[39m\u001b[33mfinal_\u001b[39m\u001b[38;5;132;01m{\u001b[39;00mi\u001b[38;5;132;01m}\u001b[39;00m\u001b[33m\"\u001b[39m][j]=\u001b[32m1\u001b[39m\n\u001b[32m     29\u001b[39m \u001b[38;5;28;01melse\u001b[39;00m:\n\u001b[32m     30\u001b[39m     final_i[j]=-\u001b[32m1\u001b[39m\n",
      "\u001b[31mIndexError\u001b[39m: list assignment index out of range"
     ]
    }
   ],
   "source": [
    "digits = [[66, 50, 57, -1, -1],\n",
    "          [92, -1, 88, -1, -1],\n",
    "          [75, -1, -1, 76, -1],\n",
    "          [-1, 51, 87, -1, -1],\n",
    "          [71, -1, 67, -1, 69]]\n",
    "\n",
    "dig=np.array(digits)\n",
    "\n",
    "for i in range(len(digits)):\n",
    "    integ_i=(dig[i][:]).astype(int)\n",
    "    print(integ_i)\n",
    "    trufal_i=integ_i>50\n",
    "    faltru_i=integ_i==50\n",
    "\n",
    "final_0=[]\n",
    "final_1=[]\n",
    "final_2=[]\n",
    "final_3=[]\n",
    "final_4=[]\n",
    "\n",
    "for i in range(len(digits)):\n",
    "    for j in range(0,5):\n",
    "        if faltru_i[j] == True:\n",
    "            final_i[j]=0\n",
    "        elif trufal_i[j] == True:\n",
    "            print(i)\n",
    "            print(j)\n",
    "            globals()[f\"final_{i}\"][j]=1\n",
    "        else:\n",
    "            final_i[j]=-1\n",
    "\n",
    "print(final)\n",
    "\n",
    "# i give up on this method, just ignore this one"
   ]
  },
  {
   "cell_type": "code",
   "execution_count": 26,
   "id": "10707058",
   "metadata": {},
   "outputs": [
    {
     "name": "stdout",
     "output_type": "stream",
     "text": [
      "[[ 1  0  1 -1 -1]\n",
      " [ 1 -1  1 -1 -1]\n",
      " [ 1 -1 -1  1 -1]\n",
      " [-1  1  1 -1 -1]\n",
      " [ 1 -1  1 -1  1]]\n"
     ]
    }
   ],
   "source": [
    "dig = np.array(digits)\n",
    "\n",
    "dig[dig < 50] = -1\n",
    "dig[dig > 50] = 1\n",
    "dig[dig == 50] = 0\n",
    "\n",
    "print(dig)"
   ]
  },
  {
   "cell_type": "code",
   "execution_count": null,
   "id": "b72a03c7",
   "metadata": {},
   "outputs": [],
   "source": []
  }
 ],
 "metadata": {
  "kernelspec": {
   "display_name": "base",
   "language": "python",
   "name": "python3"
  },
  "language_info": {
   "codemirror_mode": {
    "name": "ipython",
    "version": 3
   },
   "file_extension": ".py",
   "mimetype": "text/x-python",
   "name": "python",
   "nbconvert_exporter": "python",
   "pygments_lexer": "ipython3",
   "version": "3.13.5"
  },
  "toc": {
   "base_numbering": 1,
   "nav_menu": {},
   "number_sections": true,
   "sideBar": true,
   "skip_h1_title": false,
   "title_cell": "Table of Contents",
   "title_sidebar": "Contents",
   "toc_cell": false,
   "toc_position": {},
   "toc_section_display": true,
   "toc_window_display": false
  }
 },
 "nbformat": 4,
 "nbformat_minor": 5
}
