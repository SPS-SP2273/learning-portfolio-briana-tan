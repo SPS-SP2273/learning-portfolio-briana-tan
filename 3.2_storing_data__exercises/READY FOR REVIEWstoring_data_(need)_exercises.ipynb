{
 "cells": [
  {
   "attachments": {},
   "cell_type": "markdown",
   "id": "123456",
   "metadata": {},
   "source": [
    "<div style=\"text-align:left;font-size:2em\"><span style=\"font-weight:bolder;font-size:1.25em\">SP2273 | Learning Portfolio</span><br><br><span style=\"font-weight:bold;color:darkred\">Storing Data (Need) Exercises</span></div>"
   ]
  },
  {
   "cell_type": "markdown",
   "id": "4589460c",
   "metadata": {},
   "source": [
    "### Exercise 1 (Total recall?)\n",
    "1. Two similarities between lists and arrays\n",
    "    - They both have more than one elements (can be integers, strings, floats, whatever they want!)\n",
    "    - *They are both an ordered collection of elements, and both can be editted after they are made (either by adding or reducing elements)*\n",
    "2. Two differences between lists and arrays\n",
    "    - Arrays need to use the numpy package\n",
    "    - Any operations to a list will be done as a whole (like if you do list\\*2, it'll just be the same list twice), but any operations to an array will be done for each element (array\\*2 will end with each element x2)\n",
    "    - *Arrays are mostly optimized for math-related things, for its elements to be numbers, while lists work even if not.*\n",
    "3. What is a dictionary\n",
    "    - I always thought of it as like a 3d list (its a 2xa instead of a ax1)? Like a this : this2 and that : that2, so you can ask what is this? and they'll say this2\n",
    "    - *It is a data structure that is in pairs, so a certain key (x) will mean a certain value (y).*"
   ]
  },
  {
   "cell_type": "code",
   "execution_count": 1,
   "id": "5c8aea3f",
   "metadata": {},
   "outputs": [
    {
     "name": "stdout",
     "output_type": "stream",
     "text": [
      "a1\n",
      "c3\n",
      "e5\n",
      "g7\n",
      "i9\n"
     ]
    }
   ],
   "source": [
    "py_list = [\"a1\", \"b2\", \"c3\", \"d4\", \"e5\", \"f6\", \"g7\", \"h8\", \"i9\", \"j10\"]\n",
    "print(py_list[0])   # Prints 'a1'\n",
    "print(py_list[2])   # Prints 'c3'\n",
    "print(py_list[4])   # Prints 'e5'\n",
    "print(py_list[6])   # Prints 'g7'\n",
    "print(py_list[8])   # Prints 'i9'"
   ]
  },
  {
   "cell_type": "code",
   "execution_count": 2,
   "id": "0f69d8e7",
   "metadata": {},
   "outputs": [
    {
     "name": "stdout",
     "output_type": "stream",
     "text": [
      "Beryllium\n",
      "Nitrogen\n"
     ]
    }
   ],
   "source": [
    "elements = ['Hydrogen',\n",
    "            'Helium', 'Lithium',\n",
    "            'Beryllium', 'Boron', 'Carbon',\n",
    "            'Nitrogen', 'Oxygen',\n",
    "            'Fluorine',\n",
    "            'Neon']\n",
    "print(elements[3])\n",
    "print(elements[-4])\n"
   ]
  },
  {
   "cell_type": "code",
   "execution_count": 7,
   "id": "4a731cbf",
   "metadata": {},
   "outputs": [],
   "source": [
    "import numpy as np\n",
    "import math"
   ]
  },
  {
   "cell_type": "code",
   "execution_count": null,
   "id": "8c69b278",
   "metadata": {},
   "outputs": [
    {
     "name": "stdout",
     "output_type": "stream",
     "text": [
      "9\n"
     ]
    }
   ],
   "source": [
    "numbers=[45, 60, 1, 30, 96, 1, 96, 57, 16, 1,\n",
    "        99, 62, 86, 43, 42, 60, 59, 1, 1, 35,\n",
    "        83, 47, 34, 28, 68, 23, 22, 92, 1, 79,\n",
    "        1, 29, 94, 72, 46, 47, 1, 74, 32, 20,\n",
    "        8, 37, 35, 1, 89, 29, 86, 19, 43, 61]           \n",
    "x = np.array(numbers) == 1\n",
    "print(sum(x))"
   ]
  },
  {
   "cell_type": "code",
   "execution_count": 54,
   "id": "7950a65e",
   "metadata": {},
   "outputs": [
    {
     "name": "stdout",
     "output_type": "stream",
     "text": [
      "mean of x1 = 38.5\n",
      "\n",
      "mean of x2 = 302.5\n",
      "\n",
      "standard dev of x1 = 326.0893282522444\n",
      "\n",
      "standard dev of x2 = 326.0893282522444\n",
      "\n",
      "Manually making Pearson correlation coeeficient: 0.9871796626270702\n",
      "Doing it through np.corrcoef: 0.9871796626270702\n"
     ]
    }
   ],
   "source": [
    "x_1 = [1, 4, 9, 16, 25, 36, 49, 64, 81, 100]\n",
    "x_2 = [1, 8, 27, 64, 125, 216, 343, 512, 729, 1000]\n",
    "\n",
    "print(f'mean of x1 = {np.mean(x_1)}\\n')\n",
    "print(f'mean of x2 = {np.mean(x_2)}\\n')\n",
    "print(f'standard dev of x1 = {np.std(x_2)}\\n')\n",
    "print(f'standard dev of x2 = {np.std(x_2)}\\n')\n",
    "\n",
    "r = np.sum((x_1 - np.mean(x_1))*(x_2 - np.mean(x_2))) / (len(x_1)*np.std(x_1)*np.std(x_2))\n",
    "print(f'Manually making Pearson correlation coeeficient: {r}')\n",
    "\n",
    "print(f'Doing it through np.corrcoef: {np.corrcoef(x_1,x_2)[1,0]}')"
   ]
  }
 ],
 "metadata": {
  "kernelspec": {
   "display_name": "base",
   "language": "python",
   "name": "python3"
  },
  "language_info": {
   "codemirror_mode": {
    "name": "ipython",
    "version": 3
   },
   "file_extension": ".py",
   "mimetype": "text/x-python",
   "name": "python",
   "nbconvert_exporter": "python",
   "pygments_lexer": "ipython3",
   "version": "3.13.5"
  },
  "toc": {
   "base_numbering": 1,
   "nav_menu": {},
   "number_sections": true,
   "sideBar": true,
   "skip_h1_title": false,
   "title_cell": "Table of Contents",
   "title_sidebar": "Contents",
   "toc_cell": false,
   "toc_position": {},
   "toc_section_display": true,
   "toc_window_display": false
  }
 },
 "nbformat": 4,
 "nbformat_minor": 5
}
