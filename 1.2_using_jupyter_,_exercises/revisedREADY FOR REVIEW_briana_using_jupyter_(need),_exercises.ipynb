{
 "cells": [
  {
   "attachments": {},
   "cell_type": "markdown",
   "id": "123456",
   "metadata": {},
   "source": [
    "<div style=\"text-align:left;font-size:2em\"><span style=\"font-weight:bolder;font-size:1.25em\">SP2273 | Learning Portfolio</span><br><br><span style=\"font-weight:bold;color:darkred\">Using Jupyter (Need), Exercises</span></div>"
   ]
  },
  {
   "attachments": {},
   "cell_type": "markdown",
   "id": "123456",
   "metadata": {},
   "source": [
    "## 1 Quadratic Equations"
   ]
  },
  {
   "attachments": {},
   "cell_type": "markdown",
   "id": "123456",
   "metadata": {},
   "source": [
    "### Introduction"
   ]
  },
  {
   "cell_type": "markdown",
   "id": "123456",
   "metadata": {},
   "source": [
    "![](https://upload.wikimedia.org/wikipedia/commons/thumb/f/f8/Polynomialdeg2.svg/300px-Polynomialdeg2.svg.png)\n",
    "\n",
    "_Image from the [Wikipedia page on Quadratic equations](https://en.wikipedia.org/wiki/Quadratic_equation))_\n",
    "\n",
    "The general form of a quadratic equation is:\n",
    "\n",
    "$$\n",
    "ax^2 + bx + c = 0\n",
    "$$"
   ]
  },
  {
   "attachments": {},
   "cell_type": "markdown",
   "id": "123456",
   "metadata": {},
   "source": [
    "### Solutions"
   ]
  },
  {
   "cell_type": "markdown",
   "id": "123456",
   "metadata": {},
   "source": [
    "Provided $a \\ne 0$, we can use an elementary algebraic method called [completing the square](https://en.wikipedia.org/wiki/Completing_the_square) to show that a quadratic equation has the following solution:\n",
    "\n",
    "$$\n",
    "x = \\dfrac{-b \\pm \\sqrt{b^2-4ac}}{2a}\n",
    "$$ "
   ]
  },
  {
   "attachments": {},
   "cell_type": "markdown",
   "id": "123456",
   "metadata": {},
   "source": [
    "### Discriminant"
   ]
  },
  {
   "cell_type": "markdown",
   "id": "123456",
   "metadata": {},
   "source": [
    "The quantity $\\Delta = b^2 - 4ac $ is called the **discriminant** of the equation and decides the nature of itsz solution. The table below shows the various possibilities.\n",
    "\n",
    "|          Discriminant          | Roots                               |\n",
    "|:------------------------------:|-------------------------------------|\n",
    "| $\\Delta = b^2 - 4ac = 0 $   | A single solution of $ -b/(2a) $    |\n",
    "| $\\Delta = b^2 - 4ac \\gt 0 $ | Two distinct solutions              |\n",
    "| $\\Delta = b^2 - 4ac \\lt 0 $ | No real solutions; both are complex |"
   ]
  },
  {
   "cell_type": "markdown",
   "id": "82ef816f",
   "metadata": {},
   "source": [
    "### **Exercise 2 (In Your Own Words)**\n",
    "\n",
    "1. What is a Git **repository**?\n",
    "    - The git repository is the thing that tracks every change in our folder. It is like the location all your changes are first saved to before you commit/push any of them.\n",
    "2. Git keeps track of ____BLANK_____ in the files in our repository.\n",
    "    - Changes! Git keeps track of the changes that are happening.\n",
    "3. What is a **commit**?\n",
    "    - It is like committing to changing this, so you really change it. If you didn't commit it, any changes you personally make won't change the repository. It lets you specify what exactly you want to commit and what exactly you do not.\n",
    "1. What is a **push**?\n",
    "    - Moving your file from your personal computer to out there in the Git repository. It commits changes from your local repository to the remote one, where you could collaborate with others. They do this by copying the information on your local repository and pasting it into the remote one. This allows others to see what you have done with your code\n",
    "1. What is a **pull**?\n",
    "    - Opposite of push, it is getting (a copy of) the file from the Git system (out there) to your personal computer. This allows you to work on someone else's code without having to be interrupted by said someone else. \n",
    "1. What is the difference between **GitHub** and **GitHub Desktop**?\n",
    "    - GitHub is the server for everyone's files (usually codes, as you can control when you commit and push your work, which makes it easier to collaborate). Its ability of choosing when to safe/commit and when not to, makes it easy for you to mess with a code without any fear of messing it up. GitHub desktop is the application where you can push, commit, and pull from."
   ]
  },
  {
   "cell_type": "markdown",
   "id": "3a2cef87",
   "metadata": {},
   "source": [
    "### **Exercise 3 (A Matter of Statistics)**\n",
    "\n",
    "$$\n",
    "\\mu = \\dfrac{1}{n} \\sum_{i=1}^{n} x_i\n",
    "$$\n",
    "$$\n",
    "\\sigma = \\sqrt{\\dfrac{1}{n} \\sum_{i=1}^{n} (x_i-\\mu)^2}\n",
    "$$\n",
    "$$\n",
    "r = \\dfrac {\\sum_{i=1}^{n} (x_i-\\mu_X)(y_i-\\mu_Y)}{\\sqrt{\\sum_{i=1}^{n} (x_i-\\mu_X)^2 \\sum_{i=1}^{n} (y_i-\\mu_Y)^2}}\n",
    "$$"
   ]
  }
 ],
 "metadata": {
  "kernelspec": {
   "display_name": "base",
   "language": "python",
   "name": "python3"
  },
  "language_info": {
   "codemirror_mode": {
    "name": "ipython",
    "version": 3
   },
   "file_extension": ".py",
   "mimetype": "text/x-python",
   "name": "python",
   "nbconvert_exporter": "python",
   "pygments_lexer": "ipython3",
   "version": "3.13.5"
  },
  "toc": {
   "base_numbering": 1,
   "nav_menu": {},
   "number_sections": true,
   "sideBar": true,
   "skip_h1_title": false,
   "title_cell": "Table of Contents",
   "title_sidebar": "Contents",
   "toc_cell": false,
   "toc_position": {},
   "toc_section_display": true,
   "toc_window_display": false
  }
 },
 "nbformat": 4,
 "nbformat_minor": 5
}
