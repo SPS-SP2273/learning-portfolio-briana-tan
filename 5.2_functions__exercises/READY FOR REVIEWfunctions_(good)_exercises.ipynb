{
 "cells": [
  {
   "attachments": {},
   "cell_type": "markdown",
   "id": "123456",
   "metadata": {},
   "source": [
    "<div style=\"text-align:left;font-size:2em\"><span style=\"font-weight:bolder;font-size:1.25em\">SP2273 | Learning Portfolio</span><br><br><span style=\"font-weight:bold;color:darkred\">Functions (Good) Exercises</span></div>"
   ]
  },
  {
   "cell_type": "code",
   "execution_count": 2,
   "id": "d204e0b8",
   "metadata": {},
   "outputs": [],
   "source": [
    "import math\n",
    "import numpy as np"
   ]
  },
  {
   "cell_type": "markdown",
   "id": "9a773e47",
   "metadata": {},
   "source": [
    "### Exercise 1"
   ]
  },
  {
   "cell_type": "code",
   "execution_count": 2,
   "id": "cde41b74",
   "metadata": {},
   "outputs": [
    {
     "data": {
      "text/plain": [
       "273"
      ]
     },
     "execution_count": 2,
     "metadata": {},
     "output_type": "execute_result"
    }
   ],
   "source": [
    "target_scale=input(\"What do you you want to convert Celcius to\")\n",
    "temperature_celcius=int(input(\"From what degrees Celcius?\"))\n",
    "\n",
    "def convert_celcius(temperature_celcius,target_scale=\"Fahrenheit\"):\n",
    "    if target_scale==\"Kelvin\":\n",
    "        return temperature_celcius+273\n",
    "    else:\n",
    "        return (temperature_celcius*9)/5+32\n",
    "\n",
    "convert_celcius(temperature_celcius,target_scale)"
   ]
  },
  {
   "cell_type": "markdown",
   "id": "66a624d8",
   "metadata": {},
   "source": [
    "### Exercise 2"
   ]
  },
  {
   "cell_type": "code",
   "execution_count": null,
   "id": "b472b061",
   "metadata": {},
   "outputs": [
    {
     "data": {
      "text/plain": [
       "31.666666666666668"
      ]
     },
     "execution_count": 18,
     "metadata": {},
     "output_type": "execute_result"
    }
   ],
   "source": [
    "target_scale=input(\"What do you you want to convert Fahrenheit to\")\n",
    "temperature_fahrenheit=int(input(\"From what degrees Fahrenheit?\"))\n",
    "\n",
    "def convert_fahrenheit(temperature_fahrenheit, target_scale=\"Celcius\"):\n",
    "    if target_scale==\"Kelvin\":\n",
    "        return ((temperature_fahrenheit - 32)*5)/9 + 273\n",
    "    else:  \n",
    "        return ((temperature_fahrenheit - 32)*5)/9\n",
    "\n",
    "convert_fahrenheit(temperature_fahrenheit, target_scale)"
   ]
  },
  {
   "cell_type": "markdown",
   "id": "95f28331",
   "metadata": {},
   "source": [
    "### Exercise 3 "
   ]
  },
  {
   "cell_type": "code",
   "execution_count": 5,
   "id": "6dccd246",
   "metadata": {},
   "outputs": [
    {
     "data": {
      "text/plain": [
       "'192.2 Fahrenheit'"
      ]
     },
     "execution_count": 5,
     "metadata": {},
     "output_type": "execute_result"
    }
   ],
   "source": [
    "\n",
    "temperature=int(input(\"What's the number of the degree you want to conver it from?\"))\n",
    "\n",
    "source_scale=input(\"What degree was that number?\")\n",
    "while source_scale not in (\"Celcius\",\"Fahrenheit\",\"Kelvin\"):\n",
    "    source_scale=input(\"Please put either Celcius, Kelvin, or Fahrenheit!\")\n",
    "\n",
    "target_scale=input(\"What do you want to change it to?\")\n",
    "while target_scale not in (\"Celcius\",\"Fahrenheit\",\"Kelvin\"):\n",
    "    target_scale=input(\"Please put either Celcius, Kelvin, or Fahrenheit!\")\n",
    "\n",
    "def convert_kelvin(temperature_kelvin, target_scale):\n",
    "    if target_scale==\"Fahrenheit\":\n",
    "        return ((temperature_kelvin - 273)*9)/5 + 32\n",
    "    else:  \n",
    "        return (temperature_kelvin-273)\n",
    "    \n",
    "def convert_fahrenheit(temperature_fahrenheit, target_scale):\n",
    "    if target_scale==\"Kelvin\":\n",
    "        return ((temperature_fahrenheit - 32)*5)/9 + 273\n",
    "    else:\n",
    "        target_scale=\"Celcius\"  \n",
    "        return ((temperature_fahrenheit - 32)*5)/9\n",
    "    \n",
    "def convert_celcius(temperature_celcius,target_scale):\n",
    "    if target_scale==\"Kelvin\":\n",
    "        return temperature_celcius+273\n",
    "    else:\n",
    "        target_scale=\"Fahrenheit\"\n",
    "        return (temperature_celcius*9)/5+32\n",
    "\n",
    "def convert_temperature(temperature,source_scale,target_scale):\n",
    "    if source_scale == target_scale:\n",
    "        temp = temperature\n",
    "    elif source_scale == \"Celcius\": \n",
    "        temp=convert_celcius(temperature,target_scale)\n",
    "    elif source_scale == \"Fahrenheit\":\n",
    "        temp=convert_fahrenheit(temperature,target_scale)\n",
    "    else:\n",
    "        temp=convert_kelvin(temperature,target_scale)\n",
    "    return f'{temp} {target_scale}'\n",
    "        \n",
    "convert_temperature(temperature,source_scale,target_scale)\n"
   ]
  },
  {
   "cell_type": "markdown",
   "id": "a8bbf129",
   "metadata": {},
   "source": []
  },
  {
   "cell_type": "code",
   "execution_count": null,
   "id": "4207e22e",
   "metadata": {},
   "outputs": [],
   "source": []
  }
 ],
 "metadata": {
  "kernelspec": {
   "display_name": "base",
   "language": "python",
   "name": "python3"
  },
  "language_info": {
   "codemirror_mode": {
    "name": "ipython",
    "version": 3
   },
   "file_extension": ".py",
   "mimetype": "text/x-python",
   "name": "python",
   "nbconvert_exporter": "python",
   "pygments_lexer": "ipython3",
   "version": "3.13.5"
  },
  "toc": {
   "base_numbering": 1,
   "nav_menu": {},
   "number_sections": true,
   "sideBar": true,
   "skip_h1_title": false,
   "title_cell": "Table of Contents",
   "title_sidebar": "Contents",
   "toc_cell": false,
   "toc_position": {},
   "toc_section_display": true,
   "toc_window_display": false
  }
 },
 "nbformat": 4,
 "nbformat_minor": 5
}
