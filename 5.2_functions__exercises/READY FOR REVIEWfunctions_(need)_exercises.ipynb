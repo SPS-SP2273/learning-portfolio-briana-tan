{
 "cells": [
  {
   "attachments": {},
   "cell_type": "markdown",
   "id": "123456",
   "metadata": {},
   "source": [
    "<div style=\"text-align:left;font-size:2em\"><span style=\"font-weight:bolder;font-size:1.25em\">SP2273 | Learning Portfolio</span><br><br><span style=\"font-weight:bold;color:darkred\">Functions (Need) Exercises</span></div>"
   ]
  },
  {
   "cell_type": "code",
   "execution_count": 5,
   "id": "aafc1606",
   "metadata": {},
   "outputs": [],
   "source": [
    "import math\n",
    "import numpy as np"
   ]
  },
  {
   "cell_type": "markdown",
   "id": "74f3008d",
   "metadata": {},
   "source": [
    "### Exercise 1"
   ]
  },
  {
   "cell_type": "code",
   "execution_count": 3,
   "id": "440d1d05",
   "metadata": {},
   "outputs": [
    {
     "data": {
      "text/plain": [
       "'Hello boo!'"
      ]
     },
     "execution_count": 3,
     "metadata": {},
     "output_type": "execute_result"
    }
   ],
   "source": [
    "def greeting(name):\n",
    "    if name == 'Batman':\n",
    "        return 'Hello Batman! So, nice to meet you!'\n",
    "    return f'Hello {name}!'\n",
    "\n",
    "greeting(\"boo\")"
   ]
  },
  {
   "cell_type": "markdown",
   "id": "25a68cdf",
   "metadata": {},
   "source": [
    "else or elif isn't needed because once python reaches return, it just immediately sends the thing it needs to send and stops paying attention to the code after it!"
   ]
  },
  {
   "cell_type": "markdown",
   "id": "8c992710",
   "metadata": {},
   "source": [
    "### Execise 2"
   ]
  },
  {
   "cell_type": "code",
   "execution_count": 17,
   "id": "467aee89",
   "metadata": {},
   "outputs": [
    {
     "name": "stdout",
     "output_type": "stream",
     "text": [
      "Your BMI is around 7.96, which means you are underweight!\n"
     ]
    }
   ],
   "source": [
    "weight2=input(\"Please put your weight (in kilograms)!\")\n",
    "height2=input(\"Please put your height(in meters)!\")\n",
    "try:\n",
    "    weight=float(weight2)\n",
    "    height=float(height2)\n",
    "    BMI=weight/(height**2)\n",
    "\n",
    "    if BMI<=18.5:\n",
    "        cat=\"underweight\"\n",
    "    elif BMI<=24.9:\n",
    "        cat=\"normal weight\"\n",
    "    elif BMI<=29.9:\n",
    "        cat=\"overweight\"\n",
    "    else:\n",
    "        cat=\"obese\"\n",
    "\n",
    "    print(f'Your BMI is around {BMI:.2f}, which means you are {cat}!')\n",
    "\n",
    "\n",
    "except ValueError:\n",
    "    print(\"Please put a valid number!\")\n"
   ]
  },
  {
   "cell_type": "markdown",
   "id": "75df6b53",
   "metadata": {},
   "source": [
    "### Exercise 3"
   ]
  },
  {
   "cell_type": "code",
   "execution_count": 23,
   "id": "24d8859b",
   "metadata": {},
   "outputs": [
    {
     "name": "stdout",
     "output_type": "stream",
     "text": [
      "5040\n"
     ]
    }
   ],
   "source": [
    "number=input(\"Give me a number and I will give you its factorial!\")\n",
    "\n",
    "try:\n",
    "    num=int(number)\n",
    "    if num <0:\n",
    "        print(\"Facrotials are undefined for negative numbers, please try again!\")\n",
    "    else:\n",
    "        fac=1\n",
    "        for i in range(num):\n",
    "            fac*=(i+1)\n",
    "        print(fac) \n",
    "except ValueError:\n",
    "    print(\"Please put a valid number!\")"
   ]
  }
 ],
 "metadata": {
  "kernelspec": {
   "display_name": "base",
   "language": "python",
   "name": "python3"
  },
  "language_info": {
   "codemirror_mode": {
    "name": "ipython",
    "version": 3
   },
   "file_extension": ".py",
   "mimetype": "text/x-python",
   "name": "python",
   "nbconvert_exporter": "python",
   "pygments_lexer": "ipython3",
   "version": "3.13.5"
  },
  "toc": {
   "base_numbering": 1,
   "nav_menu": {},
   "number_sections": true,
   "sideBar": true,
   "skip_h1_title": false,
   "title_cell": "Table of Contents",
   "title_sidebar": "Contents",
   "toc_cell": false,
   "toc_position": {},
   "toc_section_display": true,
   "toc_window_display": false
  }
 },
 "nbformat": 4,
 "nbformat_minor": 5
}
